{
 "cells": [
  {
   "cell_type": "markdown",
   "id": "668459ff",
   "metadata": {},
   "source": [
    "# Voice Recognition and Identification"
   ]
  },
  {
   "cell_type": "markdown",
   "id": "0aa66067",
   "metadata": {},
   "source": [
    "* **Project Overview**\n",
    "\n",
    "*  In this project i will record audio file \n",
    "*  Using the audio file i will register or enroll the person in the system\n",
    "*  After enrollment of a user will try to match his/her voice \n",
    "*  Recognize the register user will record real time voice and convert it into wav file\n",
    "*  Using that wav file will try to recognize the user "
   ]
  },
  {
   "cell_type": "markdown",
   "id": "d219149a",
   "metadata": {},
   "source": [
    "# Recording audio "
   ]
  },
  {
   "cell_type": "code",
   "execution_count": 1,
   "id": "d829ed96",
   "metadata": {},
   "outputs": [
    {
     "name": "stdout",
     "output_type": "stream",
     "text": [
      "Enter time duration in seconds: 4\n",
      "Recording.....n\n",
      "Finished.....nPlease check your output file\n"
     ]
    }
   ],
   "source": [
    "import sounddevice\n",
    "from scipy.io.wavfile import write\n",
    "\n",
    "fs= 44100\n",
    "\n",
    "path = \"/home/robin/Desktop/voice recog/Voice-Authentication-CNN/data/wav/\"\n",
    "\n",
    "second =  int(input(\"Enter time duration in seconds: \"))\n",
    "print(\"Recording.....n\")\n",
    "\n",
    "record_voice = sounddevice.rec( int ( second * fs ) , samplerate = fs , channels = 2 )\n",
    "sounddevice.wait()\n",
    "\n",
    "write(path+\"robin2.flac\",fs,record_voice)\n",
    "\n",
    "print(\"Finished.....nPlease check your output file\")"
   ]
  },
  {
   "cell_type": "code",
   "execution_count": 3,
   "id": "cc6f5f1d",
   "metadata": {},
   "outputs": [],
   "source": [
    "# Import libraries\n",
    "import sounddevice as sd\n",
    "import soundfile as sf\n",
    "\n",
    "file_path = \"/home/robin/Desktop/voice recog/Voice-Authentication-CNN/data/wav/Robin/robin1.flac\"\n",
    "\n",
    "# Extract data and sampling rate from file\n",
    "array, smp_rt = sf.read(file_path, dtype = 'float32')\n",
    "\n",
    "# start the playback\n",
    "sd.play(array, smp_rt)\n",
    "\n",
    "# Wait until file is done playing\n",
    "status = sd.wait()\n",
    "\n",
    "# stop the sound\n",
    "sd.stop()"
   ]
  },
  {
   "cell_type": "code",
   "execution_count": 2,
   "id": "e0fbef03",
   "metadata": {},
   "outputs": [],
   "source": [
    "# import os\n",
    "\n",
    "# user_name=\"Robin_Das\"\n",
    "# user_voice_path=\"/home/robin/Desktop/voice recog/Voice-Authentication-CNN/data/wav/Robin/robin1.flac\"\n",
    "\n",
    "# enroll_command= f\"python3 voice_auth.py -t enroll -n {user_name} -f {user_voice_path}\"\n",
    "\n",
    "# os.system(enroll_command)"
   ]
  },
  {
   "cell_type": "markdown",
   "id": "c944120b",
   "metadata": {},
   "source": [
    "## Enrolling User"
   ]
  },
  {
   "cell_type": "code",
   "execution_count": 8,
   "id": "7bc3a130",
   "metadata": {},
   "outputs": [
    {
     "name": "stdout",
     "output_type": "stream",
     "text": [
      "2023-01-31 02:24:13.827231: I tensorflow/core/platform/cpu_feature_guard.cc:193] This TensorFlow binary is optimized with oneAPI Deep Neural Network Library (oneDNN) to use the following CPU instructions in performance-critical operations:  AVX2 FMA\n",
      "To enable them in other operations, rebuild TensorFlow with the appropriate compiler flags.\n",
      "2023-01-31 02:24:14.569203: W tensorflow/compiler/xla/stream_executor/platform/default/dso_loader.cc:64] Could not load dynamic library 'libcudart.so.11.0'; dlerror: libcudart.so.11.0: cannot open shared object file: No such file or directory\n",
      "2023-01-31 02:24:14.569325: I tensorflow/compiler/xla/stream_executor/cuda/cudart_stub.cc:29] Ignore above cudart dlerror if you do not have a GPU set up on your machine.\n",
      "2023-01-31 02:24:19.210983: W tensorflow/compiler/xla/stream_executor/platform/default/dso_loader.cc:64] Could not load dynamic library 'libnvinfer.so.7'; dlerror: libnvinfer.so.7: cannot open shared object file: No such file or directory\n",
      "2023-01-31 02:24:19.211603: W tensorflow/compiler/xla/stream_executor/platform/default/dso_loader.cc:64] Could not load dynamic library 'libnvinfer_plugin.so.7'; dlerror: libnvinfer_plugin.so.7: cannot open shared object file: No such file or directory\n",
      "2023-01-31 02:24:19.211722: W tensorflow/compiler/tf2tensorrt/utils/py_utils.cc:38] TF-TRT Warning: Cannot dlopen some TensorRT libraries. If you would like to use Nvidia GPU with TensorRT, please make sure the missing libraries mentioned above are installed properly.\n",
      "Loading model weights from [voice_auth_model_cnn]....\n",
      "2023-01-31 02:24:28.790824: W tensorflow/compiler/xla/stream_executor/platform/default/dso_loader.cc:64] Could not load dynamic library 'libcuda.so.1'; dlerror: libcuda.so.1: cannot open shared object file: No such file or directory\n",
      "2023-01-31 02:24:28.799159: W tensorflow/compiler/xla/stream_executor/cuda/cuda_driver.cc:265] failed call to cuInit: UNKNOWN ERROR (303)\n",
      "2023-01-31 02:24:28.799425: I tensorflow/compiler/xla/stream_executor/cuda/cuda_diagnostics.cc:156] kernel driver does not appear to be running on this host (robin-Aspire-E5-473): /proc/driver/nvidia/version does not exist\n",
      "2023-01-31 02:24:28.825393: I tensorflow/core/platform/cpu_feature_guard.cc:193] This TensorFlow binary is optimized with oneAPI Deep Neural Network Library (oneDNN) to use the following CPU instructions in performance-critical operations:  AVX2 FMA\n",
      "To enable them in other operations, rebuild TensorFlow with the appropriate compiler flags.\n",
      "Processing enroll sample....\n",
      "1/1 [==============================] - 44s 44s/step\n",
      "Succesfully enrolled the user\n",
      "\u001b[0m"
     ]
    }
   ],
   "source": [
    "!python3 voice_auth.py -t enroll -n \"Robin_Das\" -f \"/home/robin/Desktop/voice recog/Voice-Authentication-CNN/data/wav/Robin/robin1.flac\""
   ]
  },
  {
   "cell_type": "markdown",
   "id": "bfb568b2",
   "metadata": {},
   "source": [
    "## User Authentication"
   ]
  },
  {
   "cell_type": "code",
   "execution_count": 9,
   "id": "39129d27",
   "metadata": {},
   "outputs": [
    {
     "name": "stdout",
     "output_type": "stream",
     "text": [
      "2023-01-31 03:01:59.848504: I tensorflow/core/platform/cpu_feature_guard.cc:193] This TensorFlow binary is optimized with oneAPI Deep Neural Network Library (oneDNN) to use the following CPU instructions in performance-critical operations:  AVX2 FMA\n",
      "To enable them in other operations, rebuild TensorFlow with the appropriate compiler flags.\n",
      "2023-01-31 03:02:00.643809: W tensorflow/compiler/xla/stream_executor/platform/default/dso_loader.cc:64] Could not load dynamic library 'libcudart.so.11.0'; dlerror: libcudart.so.11.0: cannot open shared object file: No such file or directory\n",
      "2023-01-31 03:02:00.643970: I tensorflow/compiler/xla/stream_executor/cuda/cudart_stub.cc:29] Ignore above cudart dlerror if you do not have a GPU set up on your machine.\n",
      "2023-01-31 03:02:06.216770: W tensorflow/compiler/xla/stream_executor/platform/default/dso_loader.cc:64] Could not load dynamic library 'libnvinfer.so.7'; dlerror: libnvinfer.so.7: cannot open shared object file: No such file or directory\n",
      "2023-01-31 03:02:06.217598: W tensorflow/compiler/xla/stream_executor/platform/default/dso_loader.cc:64] Could not load dynamic library 'libnvinfer_plugin.so.7'; dlerror: libnvinfer_plugin.so.7: cannot open shared object file: No such file or directory\n",
      "2023-01-31 03:02:06.217716: W tensorflow/compiler/tf2tensorrt/utils/py_utils.cc:38] TF-TRT Warning: Cannot dlopen some TensorRT libraries. If you would like to use Nvidia GPU with TensorRT, please make sure the missing libraries mentioned above are installed properly.\n",
      "Loading model weights from [voice_auth_model_cnn]....\n",
      "2023-01-31 03:02:17.113417: W tensorflow/compiler/xla/stream_executor/platform/default/dso_loader.cc:64] Could not load dynamic library 'libcuda.so.1'; dlerror: libcuda.so.1: cannot open shared object file: No such file or directory\n",
      "2023-01-31 03:02:17.113697: W tensorflow/compiler/xla/stream_executor/cuda/cuda_driver.cc:265] failed call to cuInit: UNKNOWN ERROR (303)\n",
      "2023-01-31 03:02:17.113946: I tensorflow/compiler/xla/stream_executor/cuda/cuda_diagnostics.cc:156] kernel driver does not appear to be running on this host (robin-Aspire-E5-473): /proc/driver/nvidia/version does not exist\n",
      "2023-01-31 03:02:17.115917: I tensorflow/core/platform/cpu_feature_guard.cc:193] This TensorFlow binary is optimized with oneAPI Deep Neural Network Library (oneDNN) to use the following CPU instructions in performance-critical operations:  AVX2 FMA\n",
      "To enable them in other operations, rebuild TensorFlow with the appropriate compiler flags.\n",
      "Processing test sample....\n",
      "Comparing test sample against enroll samples....\n",
      "1/1 [==============================] - 20s 20s/step\n",
      "Recognized:  Robin_Das\n",
      "\u001b[0m"
     ]
    }
   ],
   "source": [
    "!python3 voice_auth.py -t recognize -f \"/home/robin/Desktop/voice recog/out1.wav\""
   ]
  },
  {
   "cell_type": "code",
   "execution_count": 4,
   "id": "6bdf0319",
   "metadata": {},
   "outputs": [
    {
     "name": "stderr",
     "output_type": "stream",
     "text": [
      "ALSA lib pcm_dsnoop.c:641:(snd_pcm_dsnoop_open) unable to open slave\n",
      "ALSA lib pcm_dmix.c:1089:(snd_pcm_dmix_open) unable to open slave\n",
      "ALSA lib pcm.c:2642:(snd_pcm_open_noupdate) Unknown PCM cards.pcm.rear\n",
      "ALSA lib pcm.c:2642:(snd_pcm_open_noupdate) Unknown PCM cards.pcm.center_lfe\n",
      "ALSA lib pcm.c:2642:(snd_pcm_open_noupdate) Unknown PCM cards.pcm.side\n",
      "ALSA lib pcm_oss.c:377:(_snd_pcm_oss_open) Unknown field port\n",
      "ALSA lib pcm_oss.c:377:(_snd_pcm_oss_open) Unknown field port\n",
      "ALSA lib pcm_usb_stream.c:486:(_snd_pcm_usb_stream_open) Invalid type for card\n",
      "ALSA lib pcm_usb_stream.c:486:(_snd_pcm_usb_stream_open) Invalid type for card\n",
      "ALSA lib pcm_dmix.c:1089:(snd_pcm_dmix_open) unable to open slave\n",
      "ALSA lib pcm_dsnoop.c:641:(snd_pcm_dsnoop_open) unable to open slave\n",
      "ALSA lib pcm_dmix.c:1089:(snd_pcm_dmix_open) unable to open slave\n",
      "ALSA lib pcm.c:2642:(snd_pcm_open_noupdate) Unknown PCM cards.pcm.rear\n",
      "ALSA lib pcm.c:2642:(snd_pcm_open_noupdate) Unknown PCM cards.pcm.center_lfe\n",
      "ALSA lib pcm.c:2642:(snd_pcm_open_noupdate) Unknown PCM cards.pcm.side\n",
      "ALSA lib pcm_oss.c:377:(_snd_pcm_oss_open) Unknown field port\n",
      "ALSA lib pcm_oss.c:377:(_snd_pcm_oss_open) Unknown field port\n",
      "ALSA lib pcm_usb_stream.c:486:(_snd_pcm_usb_stream_open) Invalid type for card\n",
      "ALSA lib pcm_usb_stream.c:486:(_snd_pcm_usb_stream_open) Invalid type for card\n",
      "ALSA lib pcm_dmix.c:1089:(snd_pcm_dmix_open) unable to open slave\n"
     ]
    },
    {
     "name": "stdout",
     "output_type": "stream",
     "text": [
      "Say something!\n",
      "result2:\n",
      "{   'alternative': [   {'confidence': 0.88371134, 'transcript': 'hello Jamal'},\n",
      "                       {'transcript': 'hello'},\n",
      "                       {'transcript': 'hello Ja'}],\n",
      "    'final': True}\n"
     ]
    }
   ],
   "source": [
    "import speech_recognition as sr\n",
    "import pyttsx3\n",
    "\n",
    "# Initialize the recognizer\n",
    "r = sr.Recognizer()\n",
    "\n",
    "# Function to convert text to\n",
    "# speech\n",
    "def SpeakText(command):\n",
    "    \n",
    "    # Initialize the engine\n",
    "    engine = pyttsx3.init()\n",
    "    engine.say(command)\n",
    "    engine.runAndWait()\n",
    "\n",
    "\n",
    "with sr.Microphone() as source:\n",
    "    # wait for a second to let the recognizer\n",
    "    # adjust the energy threshold based on\n",
    "    # the surrounding noise level\n",
    "    print(\"Say something!\")\n",
    "    r.adjust_for_ambient_noise(source, duration=0.2)\n",
    "\n",
    "    #listens for the user's input\n",
    "    audio = r.listen(source)\n",
    "    \n",
    "    # Using google to recognize audio\n",
    "    MyText = r.recognize_google(audio)\n",
    "    \n",
    "    \n",
    "    SpeakText(MyText)\n",
    "    \n",
    "# write audio to a WAV file\n",
    "with open(\"final-testing4.wav\", \"wb\") as f:\n",
    "    f.write(audio.get_wav_data())"
   ]
  },
  {
   "cell_type": "code",
   "execution_count": 5,
   "id": "51adef9e",
   "metadata": {},
   "outputs": [
    {
     "name": "stdout",
     "output_type": "stream",
     "text": [
      "2023-02-06 02:59:59.221714: I tensorflow/core/platform/cpu_feature_guard.cc:193] This TensorFlow binary is optimized with oneAPI Deep Neural Network Library (oneDNN) to use the following CPU instructions in performance-critical operations:  AVX2 FMA\n",
      "To enable them in other operations, rebuild TensorFlow with the appropriate compiler flags.\n",
      "2023-02-06 03:00:04.414567: W tensorflow/compiler/xla/stream_executor/platform/default/dso_loader.cc:64] Could not load dynamic library 'libcudart.so.11.0'; dlerror: libcudart.so.11.0: cannot open shared object file: No such file or directory\n",
      "2023-02-06 03:00:04.414744: I tensorflow/compiler/xla/stream_executor/cuda/cudart_stub.cc:29] Ignore above cudart dlerror if you do not have a GPU set up on your machine.\n",
      "2023-02-06 03:00:23.072939: W tensorflow/compiler/xla/stream_executor/platform/default/dso_loader.cc:64] Could not load dynamic library 'libnvinfer.so.7'; dlerror: libnvinfer.so.7: cannot open shared object file: No such file or directory\n",
      "2023-02-06 03:00:23.073983: W tensorflow/compiler/xla/stream_executor/platform/default/dso_loader.cc:64] Could not load dynamic library 'libnvinfer_plugin.so.7'; dlerror: libnvinfer_plugin.so.7: cannot open shared object file: No such file or directory\n",
      "2023-02-06 03:00:23.074099: W tensorflow/compiler/tf2tensorrt/utils/py_utils.cc:38] TF-TRT Warning: Cannot dlopen some TensorRT libraries. If you would like to use Nvidia GPU with TensorRT, please make sure the missing libraries mentioned above are installed properly.\n",
      "Loading model weights from [voice_auth_model_cnn]....\n",
      "2023-02-06 03:00:54.450744: W tensorflow/compiler/xla/stream_executor/platform/default/dso_loader.cc:64] Could not load dynamic library 'libcuda.so.1'; dlerror: libcuda.so.1: cannot open shared object file: No such file or directory\n",
      "2023-02-06 03:00:54.458511: W tensorflow/compiler/xla/stream_executor/cuda/cuda_driver.cc:265] failed call to cuInit: UNKNOWN ERROR (303)\n",
      "2023-02-06 03:00:54.458868: I tensorflow/compiler/xla/stream_executor/cuda/cuda_diagnostics.cc:156] kernel driver does not appear to be running on this host (robin-Aspire-E5-473): /proc/driver/nvidia/version does not exist\n",
      "2023-02-06 03:00:54.484779: I tensorflow/core/platform/cpu_feature_guard.cc:193] This TensorFlow binary is optimized with oneAPI Deep Neural Network Library (oneDNN) to use the following CPU instructions in performance-critical operations:  AVX2 FMA\n",
      "To enable them in other operations, rebuild TensorFlow with the appropriate compiler flags.\n",
      "Processing test sample....\n",
      "Comparing test sample against enroll samples....\n",
      "1/1 [==============================] - 44s 44s/step\n",
      "Recognized:  Robin_Das\n",
      "\u001b[0m"
     ]
    }
   ],
   "source": [
    "!python3 voice_auth.py -t recognize -f \"final-testing4.wav\""
   ]
  },
  {
   "cell_type": "code",
   "execution_count": 5,
   "id": "e05b3102",
   "metadata": {},
   "outputs": [
    {
     "name": "stdout",
     "output_type": "stream",
     "text": [
      "2023-02-07 18:04:56.314920: I tensorflow/core/platform/cpu_feature_guard.cc:193] This TensorFlow binary is optimized with oneAPI Deep Neural Network Library (oneDNN) to use the following CPU instructions in performance-critical operations:  AVX2 FMA\n",
      "To enable them in other operations, rebuild TensorFlow with the appropriate compiler flags.\n",
      "2023-02-07 18:04:58.937547: W tensorflow/compiler/xla/stream_executor/platform/default/dso_loader.cc:64] Could not load dynamic library 'libcudart.so.11.0'; dlerror: libcudart.so.11.0: cannot open shared object file: No such file or directory\n",
      "2023-02-07 18:04:58.937762: I tensorflow/compiler/xla/stream_executor/cuda/cudart_stub.cc:29] Ignore above cudart dlerror if you do not have a GPU set up on your machine.\n",
      "2023-02-07 18:05:21.890640: W tensorflow/compiler/xla/stream_executor/platform/default/dso_loader.cc:64] Could not load dynamic library 'libnvinfer.so.7'; dlerror: libnvinfer.so.7: cannot open shared object file: No such file or directory\n",
      "2023-02-07 18:05:21.892657: W tensorflow/compiler/xla/stream_executor/platform/default/dso_loader.cc:64] Could not load dynamic library 'libnvinfer_plugin.so.7'; dlerror: libnvinfer_plugin.so.7: cannot open shared object file: No such file or directory\n",
      "2023-02-07 18:05:21.892999: W tensorflow/compiler/tf2tensorrt/utils/py_utils.cc:38] TF-TRT Warning: Cannot dlopen some TensorRT libraries. If you would like to use Nvidia GPU with TensorRT, please make sure the missing libraries mentioned above are installed properly.\n",
      "Loading model weights from [voice_auth_model_cnn]....\n",
      "2023-02-07 18:05:56.635482: W tensorflow/compiler/xla/stream_executor/platform/default/dso_loader.cc:64] Could not load dynamic library 'libcuda.so.1'; dlerror: libcuda.so.1: cannot open shared object file: No such file or directory\n",
      "2023-02-07 18:05:56.635729: W tensorflow/compiler/xla/stream_executor/cuda/cuda_driver.cc:265] failed call to cuInit: UNKNOWN ERROR (303)\n",
      "2023-02-07 18:05:56.635933: I tensorflow/compiler/xla/stream_executor/cuda/cuda_diagnostics.cc:156] kernel driver does not appear to be running on this host (robin-Aspire-E5-473): /proc/driver/nvidia/version does not exist\n",
      "2023-02-07 18:05:56.638346: I tensorflow/core/platform/cpu_feature_guard.cc:193] This TensorFlow binary is optimized with oneAPI Deep Neural Network Library (oneDNN) to use the following CPU instructions in performance-critical operations:  AVX2 FMA\n",
      "To enable them in other operations, rebuild TensorFlow with the appropriate compiler flags.\n",
      "Processing test sample....\n",
      "Comparing test sample against enroll samples....\n",
      "1/1 [==============================] - 79s 79s/step\n",
      "Recognized:  Robin_Das\n",
      "result2:\n",
      "{   'alternative': [   {'confidence': 0.88371134, 'transcript': 'hello Jamal'},\n",
      "                       {'transcript': 'hello'},\n",
      "                       {'transcript': 'hello Ja'}],\n",
      "    'final': True}\n",
      "Command Not Matched\n",
      "\u001b[0m"
     ]
    }
   ],
   "source": [
    "!python3 cmd_match.py -t recognize -f \"final-testing4.wav\""
   ]
  },
  {
   "cell_type": "code",
   "execution_count": null,
   "id": "84468858",
   "metadata": {},
   "outputs": [],
   "source": []
  }
 ],
 "metadata": {
  "kernelspec": {
   "display_name": "v_auth",
   "language": "python",
   "name": "v_auth"
  },
  "language_info": {
   "codemirror_mode": {
    "name": "ipython",
    "version": 3
   },
   "file_extension": ".py",
   "mimetype": "text/x-python",
   "name": "python",
   "nbconvert_exporter": "python",
   "pygments_lexer": "ipython3",
   "version": "3.9.7"
  }
 },
 "nbformat": 4,
 "nbformat_minor": 5
}
